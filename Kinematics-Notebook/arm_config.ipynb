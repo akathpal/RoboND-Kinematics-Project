{
 "cells": [
  {
   "cell_type": "markdown",
   "metadata": {},
   "source": [
    "# Robotic Arm Configuration\n",
    "## Goal - To plot the joint positions and links for n-dof robotic manipulator"
   ]
  },
  {
   "cell_type": "code",
   "execution_count": 2,
   "metadata": {},
   "outputs": [],
   "source": [
    "import matplotlib.pyplot as plt\n",
    "import numpy as np\n",
    "%matplotlib inline"
   ]
  },
  {
   "cell_type": "markdown",
   "metadata": {},
   "source": [
    "### Function for computing arm configuration"
   ]
  },
  {
   "cell_type": "code",
   "execution_count": 3,
   "metadata": {},
   "outputs": [],
   "source": [
    "def compute_arm_config(link_lengths, joint_angles, n):\n",
    "    #compute the (x, y) position of joints and the end effector.\n",
    "    p_x = []\n",
    "    p_y = []\n",
    "    p_x.append(0)\n",
    "    p_y.append(0)\n",
    "    for i in range(n):\n",
    "        #print(sum(joint_angles[:i+1])*180/np.pi,p_x[i])\n",
    "        p_x.append(p_x[i] + link_lengths[i] * np.cos(sum(joint_angles[:i+1])))\n",
    "        p_y.append(p_y[i] + link_lengths[i] * np.sin(sum(joint_angles[:i+1])))\n",
    "    pos = (p_x,p_y)\n",
    "    return pos"
   ]
  },
  {
   "cell_type": "markdown",
   "metadata": {},
   "source": [
    "### Generating link lengths and joint angles"
   ]
  },
  {
   "cell_type": "code",
   "execution_count": 4,
   "metadata": {
    "scrolled": true
   },
   "outputs": [
    {
     "name": "stdout",
     "output_type": "stream",
     "text": [
      "Enter no. of degrees of fredom = 2\n",
      "Enter joint angles in degrees =30 45\n",
      "Enter link lengths =2 2\n"
     ]
    }
   ],
   "source": [
    "##RANDOM GENERATION OF PARAMETERS FOR N DOF\n",
    "\n",
    "#n = int(input('Enter the degrees of freedom :'))\n",
    "#link_lengths = np.random.rand(n) * 30 + 20\n",
    "#joint_angles = np.random.rand(n) * 2 * np.pi\n",
    "\n",
    "##FIXED DOF ENTER DATA\n",
    "#link_lengths = np.array([10,10])\n",
    "#joint_angles = np.array([45,45])* np.pi / 180\n",
    "#n =2\n",
    "\n",
    "##ENTERING ALL DATA USING LIST COMPREHENSION\n",
    "n = int(input('Enter no. of degrees of fredom = '))\n",
    "joint_angles = input('Enter joint angles in degrees =').split(' ')\n",
    "joint_angles = [int(i) for i in joint_angles]\n",
    "joint_angles = np.array(joint_angles) * np.pi/180\n",
    "\n",
    "link_lengths = input('Enter link lengths =').split(' ')\n",
    "link_lengths = [int(f) for f in link_lengths]\n",
    "#print(link_lengths)\n",
    "\n",
    "#computing positions of end-effector and joint\n",
    "pos = compute_arm_config(link_lengths, joint_angles, n)\n",
    "(pos_x,pos_y) = pos"
   ]
  },
  {
   "cell_type": "markdown",
   "metadata": {},
   "source": [
    "### Printing Output"
   ]
  },
  {
   "cell_type": "code",
   "execution_count": 5,
   "metadata": {},
   "outputs": [
    {
     "name": "stdout",
     "output_type": "stream",
     "text": [
      "joint_angles = [30. 45.]\n",
      "End Effector at x = 2.2 y = 2.9\n",
      "pos_x = [0.  1.7 2.2]\n",
      "pos_y = [0.  1.  2.9]\n"
     ]
    }
   ],
   "source": [
    "print(\"joint_angles =\", np.round(joint_angles * 180 / np.pi, 1)) \n",
    "print(\"End Effector at x =\", round(pos_x[n], 1),\"y =\", round(pos_y[n], 1))\n",
    "print(\"pos_x =\",np.round(pos_x,1))\n",
    "print(\"pos_y =\",np.round(pos_y,1))\n",
    "base_x = 0\n",
    "base_y = 0"
   ]
  },
  {
   "cell_type": "markdown",
   "metadata": {},
   "source": [
    "### Plotting links and joints"
   ]
  },
  {
   "cell_type": "code",
   "execution_count": 12,
   "metadata": {},
   "outputs": [
    {
     "data": {
      "image/png": "[encoded data removed]",
      "text/plain": [
       "<matplotlib.figure.Figure at 0x7f3d97b35eb8>"
      ]
     },
     "metadata": {},
     "output_type": "display_data"
    }
   ],
   "source": [
    "# Plot the links\n",
    "#plt.plot([base_x, pos_x[0]], [base_y, pos_y[0]])\n",
    "for i in range(n):\n",
    "    plt.plot([pos_x[i], pos_x[i+1]], [pos_y[i], pos_y[i+1]])\n",
    "# Plot the base as a blue square\n",
    "plt.plot(base_x, base_y, 'bs', markersize=15, label='Base')\n",
    "# Plot Joint-1 as a red circle\n",
    "for i in range(n):\n",
    "    plt.plot(pos_x[i+1], pos_y[i+1], 'ro', markersize=15, label='Joint-'+str(i))\n",
    "# Plot End Effector as a green triangle\n",
    "#plt.plot(p2_x, p2_y, 'g^', markersize=15, label='End Effector')\n",
    "#plt.xlim(-50, 50)\n",
    "#plt.ylim(-50, 50)\n",
    "plt.legend(fontsize=15)\n",
    "plt.show() "
   ]
  },
  {
   "cell_type": "code",
   "execution_count": null,
   "metadata": {
    "collapsed": true
   },
   "outputs": [],
   "source": []
  }
 ],
 "metadata": {
  "kernelspec": {
   "display_name": "Python 3",
   "language": "python",
   "name": "python3"
  },
  "language_info": {
   "codemirror_mode": {
    "name": "ipython",
    "version": 3
   },
   "file_extension": ".py",
   "mimetype": "text/x-python",
   "name": "python",
   "nbconvert_exporter": "python",
   "pygments_lexer": "ipython3",
   "version": "3.6.4"
  }
 },
 "nbformat": 4,
 "nbformat_minor": 2
}
