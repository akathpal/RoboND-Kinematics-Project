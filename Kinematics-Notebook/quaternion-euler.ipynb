{
 "cells": [
  {
   "cell_type": "code",
   "execution_count": 8,
   "metadata": {},
   "outputs": [],
   "source": [
    "import math\n",
    "import numpy as np\n",
    "\n",
    "def Quaternion_toEulerianAngle(x, y, z, w):\n",
    "\t\n",
    "\tt0 = +2.0 * (w * x + y*z)\n",
    "\tt1 = +1.0 - 2.0 * (x*x + y*y)\n",
    "\tX = math.degrees(math.atan2(t0, t1))\n",
    "\t\n",
    "\tt2 = +2.0 * (w*y - z*x)\n",
    "\tt2 =  1 if t2 > 1 else t2\n",
    "\tt2 = -1 if t2 < -1 else t2\n",
    "\tY = math.degrees(math.asin(t2))\n",
    "\t\n",
    "\tt3 = +2.0 * (w * z + x*y)\n",
    "\tt4 = +1.0 - 2.0 * (y*y + z*z)\n",
    "\tZ = math.degrees(math.atan2(t3, t4))\n",
    "\t\n",
    "\t\n",
    "\treturn X, Y, Z "
   ]
  },
  {
   "cell_type": "code",
   "execution_count": 9,
   "metadata": {},
   "outputs": [
    {
     "name": "stdout",
     "output_type": "stream",
     "text": [
      "126.73351674245478 7.052571586728337 -100.83147913617118\n"
     ]
    }
   ],
   "source": [
    "X,Y,Z = Quaternion_toEulerianAngle(-0.59,0.67,0.38,-0.243)\n",
    "print(X,Y,Z)"
   ]
  },
  {
   "cell_type": "code",
   "execution_count": null,
   "metadata": {
    "collapsed": true
   },
   "outputs": [],
   "source": []
  }
 ],
 "metadata": {
  "kernelspec": {
   "display_name": "Python 3",
   "language": "python",
   "name": "python3"
  },
  "language_info": {
   "codemirror_mode": {
    "name": "ipython",
    "version": 3
   },
   "file_extension": ".py",
   "mimetype": "text/x-python",
   "name": "python",
   "nbconvert_exporter": "python",
   "pygments_lexer": "ipython3",
   "version": "3.6.4"
  }
 },
 "nbformat": 4,
 "nbformat_minor": 2
}
