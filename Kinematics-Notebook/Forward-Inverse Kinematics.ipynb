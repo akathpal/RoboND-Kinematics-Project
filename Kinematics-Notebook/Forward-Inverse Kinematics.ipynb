{
 "cells": [
  {
   "cell_type": "code",
   "execution_count": 1,
   "metadata": {},
   "outputs": [],
   "source": [
    "from sympy import symbols, cos, sin, pi, simplify\n",
    "from sympy.matrices import Matrix\n",
    "import numpy as np\n",
    "from numpy import array"
   ]
  },
  {
   "cell_type": "code",
   "execution_count": 2,
   "metadata": {},
   "outputs": [],
   "source": [
    "q1, q2, q3, q4, q5, q6, q7 = symbols('q1:8')\n",
    "d1, d2, d3, d4, d5, d6, d7 = symbols('d1:8')\n",
    "a0, a1, a2, a3, a4, a5, a6 = symbols('a0:7')\n",
    "alpha0, alpha1, alpha2, alpha3, alpha4, alpha5, alpha6 = symbols('alpha0:7')"
   ]
  },
  {
   "cell_type": "code",
   "execution_count": 3,
   "metadata": {},
   "outputs": [],
   "source": [
    "s = {alpha0: 0,      a0:   0,    d1: 0.75, \n",
    "     alpha1: -pi/2,  a1: 0.35,   d2: 0, q2: q2 - pi/2,  \n",
    "     alpha2: 0,      a2: 1.25,   d3: 0,\n",
    "     alpha3: -pi/2,  a3: -0.054, d4: 1.50,\n",
    "     alpha4: pi/2,   a4:   0,    d5: 0,\n",
    "     alpha5: -pi/2,  a5:   0,    d6: 0,\n",
    "     alpha6: 0,      a6:   0,    d7: 0.303, q7: 0}"
   ]
  },
  {
   "cell_type": "code",
   "execution_count": 4,
   "metadata": {},
   "outputs": [],
   "source": [
    "T0_1 = Matrix([[             cos(q1),            -sin(q1),            0,              a0],\n",
    "               [ sin(q1)*cos(alpha0), cos(q1)*cos(alpha0), -sin(alpha0), -sin(alpha0)*d1],\n",
    "               [ sin(q1)*sin(alpha0), cos(q1)*sin(alpha0),  cos(alpha0),  cos(alpha0)*d1],\n",
    "               [                   0,                   0,            0,               1]])\n",
    "T0_1 = T0_1.subs(s)\n",
    "\n",
    "T1_2 = Matrix([[             cos(q2),            -sin(q2),            0,              a1],\n",
    "               [ sin(q2)*cos(alpha1), cos(q2)*cos(alpha1), -sin(alpha1), -sin(alpha1)*d2],\n",
    "               [ sin(q2)*sin(alpha1), cos(q2)*sin(alpha1),  cos(alpha1),  cos(alpha1)*d2],\n",
    "               [                   0,                   0,            0,               1]])\n",
    "T1_2 = T1_2.subs(s)\n",
    "\n",
    "T2_3 = Matrix([[             cos(q3),            -sin(q3),            0,              a2],\n",
    "               [ sin(q3)*cos(alpha2), cos(q3)*cos(alpha2), -sin(alpha2), -sin(alpha2)*d3],\n",
    "               [ sin(q3)*sin(alpha2), cos(q3)*sin(alpha2),  cos(alpha2),  cos(alpha2)*d3],\n",
    "               [                   0,                   0,            0,               1]])\n",
    "T2_3 = T2_3.subs(s)\n",
    "\n",
    "T3_4 = Matrix([[             cos(q4),            -sin(q4),            0,              a3],\n",
    "               [ sin(q4)*cos(alpha3), cos(q4)*cos(alpha3), -sin(alpha3), -sin(alpha3)*d4],\n",
    "               [ sin(q4)*sin(alpha3), cos(q4)*sin(alpha3),  cos(alpha3),  cos(alpha3)*d4],\n",
    "               [                   0,                   0,            0,               1]])\n",
    "T3_4 = T3_4.subs(s)\n",
    "\n",
    "T4_5 = Matrix([[             cos(q5),            -sin(q5),            0,              a4],\n",
    "               [ sin(q5)*cos(alpha4), cos(q5)*cos(alpha4), -sin(alpha4), -sin(alpha4)*d5],\n",
    "               [ sin(q5)*sin(alpha4), cos(q5)*sin(alpha4),  cos(alpha4),  cos(alpha4)*d5],\n",
    "               [                   0,                   0,            0,               1]])\n",
    "T4_5 = T4_5.subs(s)\n",
    "\n",
    "T5_6 = Matrix([[             cos(q6),            -sin(q6),            0,              a5],\n",
    "               [ sin(q6)*cos(alpha5), cos(q6)*cos(alpha5), -sin(alpha5), -sin(alpha5)*d6],\n",
    "               [ sin(q6)*sin(alpha5), cos(q6)*sin(alpha5),  cos(alpha5),  cos(alpha5)*d6],\n",
    "               [                   0,                   0,            0,               1]])\n",
    "T5_6 = T5_6.subs(s)\n",
    "\n",
    "T6_G = Matrix([[             cos(q7),            -sin(q7),            0,              a6],\n",
    "               [ sin(q7)*cos(alpha6), cos(q7)*cos(alpha6), -sin(alpha6), -sin(alpha6)*d7],\n",
    "               [ sin(q7)*sin(alpha6), cos(q7)*sin(alpha6),  cos(alpha6),  cos(alpha6)*d7],\n",
    "               [                   0,                   0,            0,               1]])\n",
    "T6_G = T6_G.subs(s)"
   ]
  },
  {
   "cell_type": "code",
   "execution_count": 5,
   "metadata": {},
   "outputs": [],
   "source": [
    "#base link to link 2\n",
    "T0_2 = simplify(T0_1*T1_2)\n",
    "#base link to link 3\n",
    "T0_3 = simplify(T0_2*T2_3)\n",
    "#base link to link 4\n",
    "T0_4 = simplify(T0_3*T3_4)\n",
    "#base link to link 5\n",
    "T0_5 = simplify(T0_4*T4_5)\n",
    "#base link to link 6\n",
    "T0_6 = simplify(T0_5*T5_6)\n",
    "#base link to gripper link \n",
    "T0_G = simplify(T0_6*T6_G)"
   ]
  },
  {
   "cell_type": "code",
   "execution_count": 6,
   "metadata": {},
   "outputs": [],
   "source": [
    "\n",
    "Rot_y = Matrix([[ cos(-np.pi/2),        0,  sin(-np.pi/2),0],\n",
    "              [       0,        1,         0,0],\n",
    "              [-sin(-np.pi/2),        0,  cos(-np.pi/2),0],\n",
    "              [ 0,        0,      0,          1]])\n",
    "\n",
    "Rot_z = Matrix([[ cos(np.pi), -sin(np.pi),        0,0],\n",
    "              [ sin(np.pi),  cos(np.pi),        0,0],\n",
    "              [ 0,              0,        1,0],\n",
    "              [ 0,        0, 0, 1]])\n",
    "\n",
    "#Orientation correction of gripper link as defined in URDF vs DH parameters\n",
    "R_corr = simplify(Rot_z*Rot_y)\n",
    "#print(R_corr)"
   ]
  },
  {
   "cell_type": "code",
   "execution_count": 7,
   "metadata": {},
   "outputs": [],
   "source": [
    "T_total = simplify(T0_G*R_corr)\n",
    "#print(T_total)"
   ]
  },
  {
   "cell_type": "code",
   "execution_count": 9,
   "metadata": {},
   "outputs": [],
   "source": [
    "q, yaw, roll, pitch = symbols('q yaw roll pitch')\n",
    "\n",
    "def rot_x(q):\n",
    "    R_x = Matrix([[ 1,            0,        0],\n",
    "                  [ 0,        cos(q), -sin(q)],\n",
    "                  [ 0,        sin(q),  cos(q)]])\n",
    "    return R_x\n",
    "def rot_y(q):\n",
    "    R_y = Matrix([[ cos(q),        0,  sin(q)],\n",
    "                  [     0,        1,        0],\n",
    "                  [-sin(q),        0,  cos(q)]])\n",
    "    return R_y\n",
    "def rot_z(q):\n",
    "    R_z = Matrix([[ cos(q), -sin(q),        0],\n",
    "                  [ sin(q),  cos(q),        0],\n",
    "                  [ 0,              0,      1]])\n",
    "    return R_z\n",
    "\n",
    "Rrpy = rot_z(yaw)*rot_y(pitch)*rot_x(roll)"
   ]
  },
  {
   "cell_type": "code",
   "execution_count": 10,
   "metadata": {},
   "outputs": [],
   "source": [
    "dtr = np.pi/180\n",
    "#end-effector orientation\n",
    "r,p,y = 58.353*dtr,21.154*dtr,5.306*dtr\n",
    "px, py, pz = 2.329, 0.125, 1.297\n",
    "pg_0 = Matrix([[px],[py],[pz]])\n",
    "R0_G = Rrpy.evalf(subs={yaw: y,roll: r,pitch: p})\n",
    "#print(R0_G)\n"
   ]
  },
  {
   "cell_type": "code",
   "execution_count": 11,
   "metadata": {},
   "outputs": [
    {
     "name": "stdout",
     "output_type": "stream",
     "text": [
      "wrist = \n",
      " Matrix([[2.04762886731308], [0.0988682702346592], [1.40634540863680]])\n",
      "\n",
      "End Effector = \n",
      " Matrix([[2.32900000000000], [0.125000000000000], [1.29700000000000]])\n",
      "\n",
      "R0_G = \n",
      " Matrix([[0.928617599626807, 0.257376020577243, 0.267258185459623], [0.0862433325588805, 0.550845578908700, -0.830139286978925], [-0.360875936095061, 0.793931188597955, 0.489327933515911]])\n",
      "\n",
      "Transformation = \n",
      " Matrix([[0.925676319977524, 0.261174097265013, 0.273699546128001, 2.32771574852586], [0.0884310700826914, 0.554047985995652, -0.827774591938042, 0.129241792294235], [-0.367835964088476, 0.790454881781349, 0.489773195868388, 1.28461339234256], [0, 0, 0, 1.00000000000000]])\n"
     ]
    }
   ],
   "source": [
    "pw_0 = pg_0 - 0.303*R0_G*(rot_z(pi)*rot_y(-pi/2)*Matrix([[0],[0],[1]]))\n",
    "print(\"wrist = \\n\",pw_0)\n",
    "print(\"\\nEnd Effector = \\n\",pg_0)\n",
    "print(\"\\nR0_G = \\n\",R0_G)\n",
    "print(\"\\nTransformation = \\n\",T_total.evalf(subs={q1:0.05 ,q2:0.25 ,q3:0.10 ,q4:1.0 ,q5:0.05 ,q6:0.0 ,q7:-0.0}))"
   ]
  },
  {
   "cell_type": "code",
   "execution_count": 12,
   "metadata": {
    "scrolled": true
   },
   "outputs": [
    {
     "name": "stdout",
     "output_type": "stream",
     "text": [
      "0.05\n",
      "-0.72\n",
      "0.11\n"
     ]
    }
   ],
   "source": [
    "from mpmath import *\n",
    "#CALCULATING THETA 1-3 \n",
    "theta1, theta2, theta3, theta4, theta5, theta6 = symbols('theta1 theta2 theta3 theta4 theta5 theta6')\n",
    "theta31, theta32,l35,l25, theta21, theta22= symbols('theta31 theta32 l35 l25 theta21 theta22')\n",
    "\n",
    "x=pw_0[0]\n",
    "y=pw_0[1]\n",
    "z=pw_0[2]\n",
    "\n",
    "theta1 = atan2(y,x)\n",
    "print('%.2f'%theta1)\n",
    "\n",
    "a = sqrt(x**2 + y**2)\n",
    "b = z\n",
    "a3 = 0.054\n",
    "d4 = 1.5\n",
    "a2 = 1.25\n",
    "theta31 = atan2(a3,d4)\n",
    "l35= sqrt(a3**2 + d4**2)\n",
    "l25= sqrt(a**2 + b**2)\n",
    "k = (l25**2 - a2**2 - l35**2)/(2*a2*l35)\n",
    "theta32 = acos(k)\n",
    "#print(theta32,theta31)\n",
    "theta3 = theta32 - theta31 - np.pi/2\n",
    "print('%.2f'%theta3)\n",
    "\n",
    "theta22 = atan2(b,a) \n",
    "m=(l35**2 - a2**2 - l25**2)/(2*a2*l25)\n",
    "theta21 = atan2(sqrt(1-m**2),m)\n",
    "theta2 = theta21 + theta22 - np.pi\n",
    "print('%.2f'%theta2)\n",
    "\n",
    "#r1 = (x-0.35-1.25*sin(theta2))**2 + y**2\n",
    "#s1 = 0.054+1.25*cos(theta2)\n",
    "#theta3 = atan2(s1,r1) \n"
   ]
  },
  {
   "cell_type": "code",
   "execution_count": 13,
   "metadata": {},
   "outputs": [
    {
     "name": "stdout",
     "output_type": "stream",
     "text": [
      "Matrix([[0.342469274484995, 0.938198741564246, -0.0499791692706783, 0.658431052048489], [0.0171377475613605, 0.0469490678236555, 0.998750260394966, 0.0329490146920097], [0.939372712847379, -0.342897807455451, 0, 1.96114052713831], [0, 0, 0, 1.00000000000000]])\n",
      "\n",
      "R0_3 = \n",
      " Matrix([[0.743400694459170, 0.649194833776469, 0.160939352787213], [-0.657769318869308, 0.753219438911534, 0], [-0.121222649005170, -0.105860968462112, 0.986964297593602]])\n"
     ]
    }
   ],
   "source": [
    "#r3, p3, y3=0.00,14.166*dtr,2.775*dtr\n",
    "#R0_3 = Rrpy.evalf(subs={yaw: y3,roll: r3,pitch: p3})\n",
    "print(T0_3.evalf(subs={q1:0.05 ,q2:0.25 ,q3:0.10 ,q4:1.0 ,q5:0.05 ,q6:0.0 ,q7:-0.0}))\n",
    "\n",
    "#COMPUTING R0_3\n",
    "R0_3 = rot_y(theta1)*rot_y(theta2)*rot_z(theta3)\n",
    "print('\\nR0_3 = \\n',R0_3)"
   ]
  },
  {
   "cell_type": "code",
   "execution_count": 14,
   "metadata": {},
   "outputs": [
    {
     "name": "stdout",
     "output_type": "stream",
     "text": [
      "1.00 0.21 0.81\n"
     ]
    }
   ],
   "source": [
    "R3_6 = R0_3.inv('LU') * R0_G \n",
    "r31 = R3_6[2,0]\n",
    "r11 = R3_6[0,0]\n",
    "r21 = R3_6[1,0]\n",
    "r32 = R3_6[2,1]\n",
    "r33 = R3_6[2,2]\n",
    "rtd = 180/np.pi\n",
    "\n",
    "theta5  = atan2(-r31, sqrt(r11 * r11 + r21 * r21)) \n",
    "theta4 = atan2(r32, r33) #gamma \n",
    "theta6 = atan2(r21, r11) #alpha\n",
    "print('%.2f'%theta4,'%.2f'%theta5,'%.2f'%theta6)"
   ]
  },
  {
   "cell_type": "code",
   "execution_count": 15,
   "metadata": {},
   "outputs": [
    {
     "name": "stdout",
     "output_type": "stream",
     "text": [
      "\n",
      "Transformation = \n",
      " Matrix([[0.858776217747679, -0.413463622536598, 0.302574355605204, 2.01451082916511], [0.215978766909067, -0.243383468054069, -0.945577950103752, 0.150146744596699], [0.464603680652047, 0.877389491797621, -0.119712570800576, 2.94078928423917], [0, 0, 0, 1.00000000000000]])\n"
     ]
    }
   ],
   "source": [
    "print(\"\\nTransformation = \\n\",T_total.evalf(subs={q1:theta1 ,q2:theta2 ,q3:theta3 ,q4:theta4 ,q5:theta5 ,q6:theta6 ,q7:0}))"
   ]
  },
  {
   "cell_type": "code",
   "execution_count": null,
   "metadata": {},
   "outputs": [],
   "source": []
  }
 ],
 "metadata": {
  "kernelspec": {
   "display_name": "Python 3",
   "language": "python",
   "name": "python3"
  },
  "language_info": {
   "codemirror_mode": {
    "name": "ipython",
    "version": 3
   },
   "file_extension": ".py",
   "mimetype": "text/x-python",
   "name": "python",
   "nbconvert_exporter": "python",
   "pygments_lexer": "ipython3",
   "version": "3.6.4"
  }
 },
 "nbformat": 4,
 "nbformat_minor": 2
}
